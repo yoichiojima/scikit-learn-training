{
 "cells": [
  {
   "cell_type": "markdown",
   "id": "cd5be1db",
   "metadata": {},
   "source": [
    "# Reading Through Scikit-Learn Documentation"
   ]
  },
  {
   "cell_type": "markdown",
   "id": "e34fb846",
   "metadata": {},
   "source": [
    "## Getting Started"
   ]
  },
  {
   "cell_type": "markdown",
   "id": "e5b3955e",
   "metadata": {},
   "source": [
    "**Fitting and predicting: estimator basics**"
   ]
  },
  {
   "cell_type": "code",
   "execution_count": 21,
   "id": "c7bf0cdb",
   "metadata": {},
   "outputs": [
    {
     "data": {
      "text/plain": [
       "array([0, 1])"
      ]
     },
     "execution_count": 21,
     "metadata": {},
     "output_type": "execute_result"
    }
   ],
   "source": [
    "from sklearn.ensemble import RandomForestClassifier\n",
    "\n",
    "clf = RandomForestClassifier(random_state = 0)\n",
    "X = [[1, 2, 3],  [11, 12, 13]]\n",
    "\n",
    "Y = [0, 1]\n",
    "\n",
    "clf.fit(X, Y)\n",
    "clf.predict([[4, 5, 6], [14, 15, 16]])"
   ]
  },
  {
   "cell_type": "markdown",
   "id": "4ac640f6",
   "metadata": {},
   "source": [
    "**Transformers and pre-processors**"
   ]
  },
  {
   "cell_type": "code",
   "execution_count": 22,
   "id": "f1688fa8",
   "metadata": {},
   "outputs": [
    {
     "data": {
      "text/plain": [
       "array([[-1.,  1.],\n",
       "       [ 1., -1.]])"
      ]
     },
     "execution_count": 22,
     "metadata": {},
     "output_type": "execute_result"
    }
   ],
   "source": [
    "from sklearn.preprocessing import StandardScaler\n",
    "\n",
    "X = [[0, 15], [1, -10]]\n",
    "\n",
    "scaler = StandardScaler()\n",
    "scaler.fit(X).transform(X)"
   ]
  },
  {
   "cell_type": "markdown",
   "id": "862ccd37",
   "metadata": {},
   "source": [
    "**Pipelines: chaining pre-processors and estimators**"
   ]
  },
  {
   "cell_type": "code",
   "execution_count": 35,
   "id": "f4d907ba",
   "metadata": {},
   "outputs": [
    {
     "data": {
      "text/plain": [
       "0.9473684210526315"
      ]
     },
     "execution_count": 35,
     "metadata": {},
     "output_type": "execute_result"
    }
   ],
   "source": [
    "from sklearn.pipeline import make_pipeline\n",
    "from sklearn.preprocessing import StandardScaler\n",
    "from sklearn.linear_model import LogisticRegression\n",
    "from sklearn.datasets import load_iris\n",
    "from sklearn.model_selection import train_test_split\n",
    "from sklearn.metrics import accuracy_score\n",
    "\n",
    "pipe = make_pipeline(\n",
    "    StandardScaler(),\n",
    "    LogisticRegression()\n",
    ")\n",
    "\n",
    "X, y = load_iris(return_X_y = True)\n",
    "\n",
    "X_train, X_test, y_train, y_test = train_test_split(X, y)\n",
    "\n",
    "pipe.fit(X_train, y_train)\n",
    "\n",
    "accuracy_score(pipe.predict(X_test), y_test)"
   ]
  },
  {
   "cell_type": "markdown",
   "id": "2b278d2c",
   "metadata": {},
   "source": [
    "**Model evaluation**"
   ]
  },
  {
   "cell_type": "code",
   "execution_count": 46,
   "id": "bc2ba291",
   "metadata": {},
   "outputs": [
    {
     "data": {
      "text/plain": [
       "array([1., 1., 1., 1., 1.])"
      ]
     },
     "execution_count": 46,
     "metadata": {},
     "output_type": "execute_result"
    }
   ],
   "source": [
    "from sklearn.datasets import make_regression\n",
    "from sklearn.linear_model import LinearRegression\n",
    "from sklearn.model_selection import cross_validate\n",
    "\n",
    "X, y = make_regression(n_samples = 1000, random_state = 0)\n",
    "lr = LinearRegression()\n",
    "\n",
    "result = cross_validate(lr, X, y)\n",
    "result['test_score']"
   ]
  },
  {
   "cell_type": "markdown",
   "id": "da9e65d9",
   "metadata": {},
   "source": [
    "**Automatic parameter searches**"
   ]
  },
  {
   "cell_type": "code",
   "execution_count": 14,
   "id": "6df9b9f2",
   "metadata": {},
   "outputs": [
    {
     "name": "stdout",
     "output_type": "stream",
     "text": [
      "{'max_depth': 9, 'n_estimators': 4}\n",
      "0.7450810565794592\n"
     ]
    }
   ],
   "source": [
    "from sklearn.datasets import fetch_california_housing\n",
    "from sklearn.model_selection import train_test_split\n",
    "from scipy.stats import randint\n",
    "from sklearn.model_selection import RandomizedSearchCV\n",
    "from sklearn.ensemble import RandomForestRegressor\n",
    "\n",
    "X, y = fetch_california_housing(return_X_y = True)\n",
    "\n",
    "X_train, X_test, y_train, y_test = train_test_split(X, y)\n",
    "\n",
    "param_distribution = {\n",
    "    'n_estimators': randint(1, 5),\n",
    "    'max_depth': randint(5, 10),\n",
    "}\n",
    "\n",
    "search = RandomizedSearchCV(\n",
    "    estimator = RandomForestRegressor(random_state = 0),\n",
    "    n_iter = 5, \n",
    "    param_distributions = param_distribution,\n",
    "    random_state = 0\n",
    ")\n",
    "\n",
    "search.fit(X_train, y_train)\n",
    "\n",
    "print(search.best_params_)\n",
    "print(search.score(X_test, y_test))\n"
   ]
  }
 ],
 "metadata": {
  "kernelspec": {
   "display_name": "Python 3 (ipykernel)",
   "language": "python",
   "name": "python3"
  },
  "language_info": {
   "codemirror_mode": {
    "name": "ipython",
    "version": 3
   },
   "file_extension": ".py",
   "mimetype": "text/x-python",
   "name": "python",
   "nbconvert_exporter": "python",
   "pygments_lexer": "ipython3",
   "version": "3.7.9"
  },
  "vscode": {
   "interpreter": {
    "hash": "e08f905bf1776663953e7111deca47b3f4ca7336e0fc40e244c1581d71b27367"
   }
  }
 },
 "nbformat": 4,
 "nbformat_minor": 5
}
