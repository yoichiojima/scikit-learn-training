{
 "cells": [
  {
   "cell_type": "code",
   "execution_count": 11,
   "metadata": {},
   "outputs": [],
   "source": [
    "import numpy as np\n",
    "import seaborn as sns\n",
    "from sklearn.model_selection import LeaveOneOut\n",
    "from sklearn.model_selection import KFold\n",
    "from sklearn.linear_model import LinearRegression\n",
    "from sklearn.model_selection import train_test_split\n",
    "from sklearn.metrics import mean_squared_error"
   ]
  },
  {
   "cell_type": "markdown",
   "metadata": {},
   "source": [
    "# Hold-out"
   ]
  },
  {
   "cell_type": "markdown",
   "metadata": {},
   "source": [
    "Most simple way to evaluate the performance of a model is to split the data into a training and a test set. The model is trained on the training set and evaluated on the test set. This is called hold-out evaluation."
   ]
  },
  {
   "cell_type": "code",
   "execution_count": 8,
   "metadata": {},
   "outputs": [
    {
     "name": "stdout",
     "output_type": "stream",
     "text": [
      "MSE: 1.447837173927671\n"
     ]
    }
   ],
   "source": [
    "df = sns.load_dataset('tips')\n",
    "\n",
    "X = df[['total_bill']]\n",
    "y = df[['tip']]\n",
    "\n",
    "# Split the data into training and test sets\n",
    "X_train, X_test, y_train, y_test = train_test_split(X, y)\n",
    "\n",
    "model = LinearRegression()\n",
    "model.fit(X_train, y_train)\n",
    "pred = model.predict(X_test)\n",
    "\n",
    "print(f\"MSE: {mean_squared_error(y_test, pred)}\")"
   ]
  },
  {
   "cell_type": "markdown",
   "metadata": {},
   "source": [
    "## LOOCV"
   ]
  },
  {
   "cell_type": "markdown",
   "metadata": {},
   "source": [
    "No randomability in the data, so we can use LOOCV to get a good estimate of the generalisation performance. but it costs."
   ]
  },
  {
   "cell_type": "code",
   "execution_count": 30,
   "metadata": {},
   "outputs": [
    {
     "name": "stdout",
     "output_type": "stream",
     "text": [
      "MSE (LOOCV)\n",
      "===============\n",
      "Mean: 1.068\n",
      "Std: 2.100\n"
     ]
    }
   ],
   "source": [
    "df = sns.load_dataset('tips')\n",
    "\n",
    "X = df[['total_bill']]\n",
    "y = df[['tip']]\n",
    "\n",
    "loo = LeaveOneOut()\n",
    "model = LinearRegression()\n",
    "mse_list = []\n",
    "\n",
    "# loo.split(X) returns the indices of the training and test sets\n",
    "for train_index, test_index in loo.split(X):\n",
    "    # split the data by the indices\n",
    "    X_train, X_test = X.iloc[train_index], X.iloc[test_index]\n",
    "    y_train, y_test = y.iloc[train_index], y.iloc[test_index]\n",
    "    \n",
    "    # train every time splitting the data\n",
    "    model.fit(X_train, y_train)\n",
    "    y_pred = model.predict(X_test)\n",
    "    \n",
    "    # calculate the MSE\n",
    "    mse = np.mean((y_test - y_pred)**2) \n",
    "    mse_list.append(mse)\n",
    "\n",
    "print(\n",
    "    f\"MSE (LOOCV)\\n{'=' * 15}\\n\"\n",
    "    f\"Mean: {np.mean(mse_list):.3f}\\n\"\n",
    "    f\"Std: {np.std(mse_list):.3f}\"\n",
    ")"
   ]
  },
  {
   "cell_type": "markdown",
   "metadata": {},
   "source": [
    "## k-Fold Cross Validation"
   ]
  },
  {
   "cell_type": "markdown",
   "metadata": {},
   "source": [
    "Split the data into k folds. Train the model on k-1 folds and evaluate on the remaining fold. Repeat this k times. The average of the k scores is the estimate of the generalisation performance. Not that random than the hold-out method but not costy as the LOOCV."
   ]
  },
  {
   "cell_type": "code",
   "execution_count": 14,
   "metadata": {},
   "outputs": [
    {
     "name": "stdout",
     "output_type": "stream",
     "text": [
      "MSE (5-fold CV)\n",
      "===============\n",
      "Mean: 1.097\n",
      "Std: 0.292\n"
     ]
    }
   ],
   "source": [
    "df = sns.load_dataset('tips')\n",
    "X = df[['total_bill']]\n",
    "y = df[['tip']]\n",
    "\n",
    "cv = KFold(n_splits = 5, shuffle = True)\n",
    "model = LinearRegression()\n",
    "mse_list = []\n",
    "\n",
    "for train_index, test_index in cv.split(X):\n",
    "    X_train, X_test = X.iloc[train_index], X.iloc[test_index]\n",
    "    y_train, y_test = y.iloc[train_index], y.iloc[test_index]\n",
    "    \n",
    "    model.fit(X_train, y_train)\n",
    "    y_pred = model.predict(X_test)\n",
    "    \n",
    "    mse = np.mean((y_test - y_pred)**2)\n",
    "    mse_list.append(mse)\n",
    "\n",
    "print(\n",
    "    f\"MSE (5-fold CV)\\n{'=' * 15}\\n\"\n",
    "    f\"Mean: {np.mean(mse_list):.3f}\\n\"\n",
    "    f\"Std: {np.std(mse_list):.3f}\"\n",
    ")"
   ]
  },
  {
   "cell_type": "code",
   "execution_count": null,
   "metadata": {},
   "outputs": [],
   "source": []
  }
 ],
 "metadata": {
  "kernelspec": {
   "display_name": "Python 3.7.9 ('.venv': venv)",
   "language": "python",
   "name": "python3"
  },
  "language_info": {
   "codemirror_mode": {
    "name": "ipython",
    "version": 3
   },
   "file_extension": ".py",
   "mimetype": "text/x-python",
   "name": "python",
   "nbconvert_exporter": "python",
   "pygments_lexer": "ipython3",
   "version": "3.7.9"
  },
  "orig_nbformat": 4,
  "vscode": {
   "interpreter": {
    "hash": "e08f905bf1776663953e7111deca47b3f4ca7336e0fc40e244c1581d71b27367"
   }
  }
 },
 "nbformat": 4,
 "nbformat_minor": 2
}
